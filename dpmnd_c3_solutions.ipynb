{
 "cells": [
  {
   "cell_type": "markdown",
   "metadata": {
    "ulab": {
     "buttons": {
      "ulab-button-0c1c8b8a": {
       "bashCommand": "",
       "filesToOpen": [],
       "isPreviewButton": false,
       "runInBackground": false,
       "text": "RIGHT CLICK ME"
      }
     }
    }
   },
   "source": [
    "# Project: Product Management From Scratch\n",
    "\n",
    "The boutique ice cream sandwich startup you've joined, Snackr, has gotten by on the personality of it's founder, I. Sandwich (real name?), for too long. The last 2 quarters of features the team has launched to the website have not landed with customers.\n",
    "\n",
    "You've decided it's time to step up, lay out a plan for how you're going to identify paths forward which are more likely to succeed than \"whatever I. Sandwich happened to promise a random person he met at a bar last night\". You pitch the team on an iterative design process which brings qualitative and quantitative techniques together in order to minimize industry standard risk types so that you can move forward confidently.\n",
    "\n",
    "You have some random user event logs you can dig through in order to surface user personas and a beginning user journey. You tell the team you'd like to collect all of the known assumptions before you launch the next experiment to the site so you have the best chance of success. You tell the CEO and Board (wait - is it really just his friends from college and mom?) that at the end of your week long design sprint you're going to launch an experiment.  \n",
    "\n",
    "After that you'll come back to them to share what you've learned and present some ideas for a paths forward.  \n",
    "\n",
    "<button id=\"ulab-button-0c1c8b8a\" class=\"ulab-btn--primary\"></button>"
   ]
  },
  {
   "cell_type": "markdown",
   "metadata": {},
   "source": [
    "<!--\n",
    "%%ulab_page_divider\n",
    "--><hr/>"
   ]
  },
  {
   "cell_type": "code",
   "execution_count": 19,
   "metadata": {},
   "outputs": [],
   "source": [
    "import numpy as np\n",
    "import pandas as pd\n",
    "import glob\n",
    "import datetime"
   ]
  },
  {
   "cell_type": "code",
   "execution_count": 3,
   "metadata": {},
   "outputs": [],
   "source": [
    "log_files = glob.glob(r'events_*.csv')\n",
    "df = pd.concat((pd.read_csv(f) for f in log_files))"
   ]
  },
  {
   "cell_type": "markdown",
   "metadata": {},
   "source": [
    "## Section 1 - User Journey"
   ]
  },
  {
   "cell_type": "code",
   "execution_count": 11,
   "metadata": {},
   "outputs": [
    {
     "data": {
      "text/html": [
       "<div>\n",
       "<style scoped>\n",
       "    .dataframe tbody tr th:only-of-type {\n",
       "        vertical-align: middle;\n",
       "    }\n",
       "\n",
       "    .dataframe tbody tr th {\n",
       "        vertical-align: top;\n",
       "    }\n",
       "\n",
       "    .dataframe thead th {\n",
       "        text-align: right;\n",
       "    }\n",
       "</style>\n",
       "<table border=\"1\" class=\"dataframe\">\n",
       "  <thead>\n",
       "    <tr style=\"text-align: right;\">\n",
       "      <th></th>\n",
       "      <th>event_id</th>\n",
       "      <th>user_uuid</th>\n",
       "      <th>event_time</th>\n",
       "      <th>device_type</th>\n",
       "      <th>session_uuid</th>\n",
       "      <th>experiment_group</th>\n",
       "      <th>user_country</th>\n",
       "      <th>event_page</th>\n",
       "      <th>event_type</th>\n",
       "    </tr>\n",
       "  </thead>\n",
       "  <tbody>\n",
       "    <tr>\n",
       "      <th>count</th>\n",
       "      <td>1247914</td>\n",
       "      <td>1247914</td>\n",
       "      <td>1247914</td>\n",
       "      <td>1247914</td>\n",
       "      <td>1247914</td>\n",
       "      <td>1247914</td>\n",
       "      <td>1247914</td>\n",
       "      <td>1247914</td>\n",
       "      <td>1247914</td>\n",
       "    </tr>\n",
       "    <tr>\n",
       "      <th>unique</th>\n",
       "      <td>1247914</td>\n",
       "      <td>81641</td>\n",
       "      <td>525817</td>\n",
       "      <td>4</td>\n",
       "      <td>227081</td>\n",
       "      <td>2</td>\n",
       "      <td>5</td>\n",
       "      <td>4</td>\n",
       "      <td>5</td>\n",
       "    </tr>\n",
       "    <tr>\n",
       "      <th>top</th>\n",
       "      <td>bff56d56-b039-44e8-8bb5-9a0e99a83f2c</td>\n",
       "      <td>9d3592ba-f1ed-45ce-a7c2-7f242ee353a9</td>\n",
       "      <td>2019-09-27 16:47:06</td>\n",
       "      <td>mobile_web</td>\n",
       "      <td>68ef8208-8aa6-44e6-a137-d1ae72afa22c</td>\n",
       "      <td>experiment</td>\n",
       "      <td>CN</td>\n",
       "      <td>home_page</td>\n",
       "      <td>view</td>\n",
       "    </tr>\n",
       "    <tr>\n",
       "      <th>freq</th>\n",
       "      <td>1</td>\n",
       "      <td>49</td>\n",
       "      <td>12</td>\n",
       "      <td>312812</td>\n",
       "      <td>10</td>\n",
       "      <td>624849</td>\n",
       "      <td>250957</td>\n",
       "      <td>482690</td>\n",
       "      <td>817324</td>\n",
       "    </tr>\n",
       "  </tbody>\n",
       "</table>\n",
       "</div>"
      ],
      "text/plain": [
       "                                    event_id  \\\n",
       "count                                1247914   \n",
       "unique                               1247914   \n",
       "top     bff56d56-b039-44e8-8bb5-9a0e99a83f2c   \n",
       "freq                                       1   \n",
       "\n",
       "                                   user_uuid           event_time device_type  \\\n",
       "count                                1247914              1247914     1247914   \n",
       "unique                                 81641               525817           4   \n",
       "top     9d3592ba-f1ed-45ce-a7c2-7f242ee353a9  2019-09-27 16:47:06  mobile_web   \n",
       "freq                                      49                   12      312812   \n",
       "\n",
       "                                session_uuid experiment_group user_country  \\\n",
       "count                                1247914          1247914      1247914   \n",
       "unique                                227081                2            5   \n",
       "top     68ef8208-8aa6-44e6-a137-d1ae72afa22c       experiment           CN   \n",
       "freq                                      10           624849       250957   \n",
       "\n",
       "       event_page event_type  \n",
       "count     1247914    1247914  \n",
       "unique          4          5  \n",
       "top     home_page       view  \n",
       "freq       482690     817324  "
      ]
     },
     "execution_count": 11,
     "metadata": {},
     "output_type": "execute_result"
    }
   ],
   "source": [
    "#S1\n",
    "df.describe()"
   ]
  },
  {
   "cell_type": "code",
   "execution_count": 12,
   "metadata": {},
   "outputs": [
    {
     "data": {
      "text/plain": [
       "array(['desktop_web', 'ios', 'mobile_web', 'android'], dtype=object)"
      ]
     },
     "execution_count": 12,
     "metadata": {},
     "output_type": "execute_result"
    }
   ],
   "source": [
    "#S1_1\n",
    "df.device_type.unique()"
   ]
  },
  {
   "cell_type": "code",
   "execution_count": 14,
   "metadata": {},
   "outputs": [
    {
     "data": {
      "text/plain": [
       "array(['JP', 'FR', 'CN', 'US', 'UK'], dtype=object)"
      ]
     },
     "execution_count": 14,
     "metadata": {},
     "output_type": "execute_result"
    }
   ],
   "source": [
    "#S1_1\n",
    "df.user_country.unique()"
   ]
  },
  {
   "cell_type": "code",
   "execution_count": 15,
   "metadata": {},
   "outputs": [
    {
     "data": {
      "text/plain": [
       "array(['home_page', 'search_page', 'item_page', 'marketing_page'], dtype=object)"
      ]
     },
     "execution_count": 15,
     "metadata": {},
     "output_type": "execute_result"
    }
   ],
   "source": [
    "#S1_2\n",
    "df.event_page.unique()"
   ]
  },
  {
   "cell_type": "code",
   "execution_count": 16,
   "metadata": {},
   "outputs": [
    {
     "data": {
      "text/plain": [
       "array(['view', 'share', 'favorite', 'cart', 'purchase'], dtype=object)"
      ]
     },
     "execution_count": 16,
     "metadata": {},
     "output_type": "execute_result"
    }
   ],
   "source": [
    "#S1_2\n",
    "df.event_type.unique()"
   ]
  },
  {
   "cell_type": "code",
   "execution_count": 17,
   "metadata": {},
   "outputs": [],
   "source": [
    "#S1_3\n",
    "#TODO - MATT - Generate opportunities in dataset.\n",
    "#1 - bounce\n",
    "#2 - bug\n",
    "#3 - typo\n",
    "#4 - l10n\n",
    "#5 - price\n",
    "#6 - flow"
   ]
  },
  {
   "cell_type": "markdown",
   "metadata": {},
   "source": [
    "## Section 2 - Forumulate Hypotheses"
   ]
  },
  {
   "cell_type": "markdown",
   "metadata": {},
   "source": [
    "Because **evidence**   \n",
    "we believe that by **product change**  \n",
    "for **defined audience**  \n",
    "users will be **XX% (more/less)** likely   \n",
    "to **(view,share,favorite,cart,purchase)**  \n",
    "  \n",
    "In order to be certain we will run an a/b test for **DD days**  "
   ]
  },
  {
   "cell_type": "markdown",
   "metadata": {},
   "source": [
    "## Section 3 - Create Wireframes of Change"
   ]
  },
  {
   "cell_type": "markdown",
   "metadata": {},
   "source": [
    "TKTK - Is this a standout section?"
   ]
  },
  {
   "cell_type": "markdown",
   "metadata": {},
   "source": [
    "## Section 4 - Run Experiment"
   ]
  },
  {
   "cell_type": "markdown",
   "metadata": {},
   "source": [
    "This is the data for the course.  Maybe a fun gif here of the seasons changing.  Can we get rights to something like this? CC- I found the [website](https://eirikso.com/tag/seasons/) where the video that made the gif came from but we may have to look into who should get the licence for this if we end up using it. You can also look at Google Images and use their tool to look at usage rights to find an alternative, here is [my search](https://www.google.com/search?q=seasons&hl=en&tbm=isch&source=lnt&tbs=sur:fc&sa=X&ved=0ahUKEwiyxM77xIDlAhXCjp4KHYSjDi4QpwUIJA&biw=1920&bih=1121&dpr=1) for Season images with Labeled for Reuse as the license type \n",
    "\n",
    "![time passes through the seasons as we wait for the experiment to finish running](seasons.gif)\n"
   ]
  },
  {
   "cell_type": "markdown",
   "metadata": {},
   "source": [
    "## Section 5 - Draw Product Insights\n"
   ]
  },
  {
   "cell_type": "code",
   "execution_count": 21,
   "metadata": {},
   "outputs": [
    {
     "data": {
      "text/html": [
       "<div>\n",
       "<style scoped>\n",
       "    .dataframe tbody tr th:only-of-type {\n",
       "        vertical-align: middle;\n",
       "    }\n",
       "\n",
       "    .dataframe tbody tr th {\n",
       "        vertical-align: top;\n",
       "    }\n",
       "\n",
       "    .dataframe thead th {\n",
       "        text-align: right;\n",
       "    }\n",
       "</style>\n",
       "<table border=\"1\" class=\"dataframe\">\n",
       "  <thead>\n",
       "    <tr style=\"text-align: right;\">\n",
       "      <th></th>\n",
       "      <th>event_id</th>\n",
       "      <th>user_uuid</th>\n",
       "      <th>event_time</th>\n",
       "      <th>device_type</th>\n",
       "      <th>session_uuid</th>\n",
       "      <th>experiment_group</th>\n",
       "      <th>user_country</th>\n",
       "      <th>event_page</th>\n",
       "      <th>event_type</th>\n",
       "    </tr>\n",
       "  </thead>\n",
       "  <tbody>\n",
       "    <tr>\n",
       "      <th>count</th>\n",
       "      <td>1247914</td>\n",
       "      <td>1247914</td>\n",
       "      <td>1247914</td>\n",
       "      <td>1247914</td>\n",
       "      <td>1247914</td>\n",
       "      <td>1247914</td>\n",
       "      <td>1247914</td>\n",
       "      <td>1247914</td>\n",
       "      <td>1247914</td>\n",
       "    </tr>\n",
       "    <tr>\n",
       "      <th>unique</th>\n",
       "      <td>1247914</td>\n",
       "      <td>81641</td>\n",
       "      <td>525817</td>\n",
       "      <td>4</td>\n",
       "      <td>227081</td>\n",
       "      <td>2</td>\n",
       "      <td>5</td>\n",
       "      <td>4</td>\n",
       "      <td>5</td>\n",
       "    </tr>\n",
       "    <tr>\n",
       "      <th>top</th>\n",
       "      <td>bff56d56-b039-44e8-8bb5-9a0e99a83f2c</td>\n",
       "      <td>9d3592ba-f1ed-45ce-a7c2-7f242ee353a9</td>\n",
       "      <td>2019-09-27 16:47:06</td>\n",
       "      <td>mobile_web</td>\n",
       "      <td>68ef8208-8aa6-44e6-a137-d1ae72afa22c</td>\n",
       "      <td>experiment</td>\n",
       "      <td>CN</td>\n",
       "      <td>home_page</td>\n",
       "      <td>view</td>\n",
       "    </tr>\n",
       "    <tr>\n",
       "      <th>freq</th>\n",
       "      <td>1</td>\n",
       "      <td>49</td>\n",
       "      <td>12</td>\n",
       "      <td>312812</td>\n",
       "      <td>10</td>\n",
       "      <td>624849</td>\n",
       "      <td>250957</td>\n",
       "      <td>482690</td>\n",
       "      <td>817324</td>\n",
       "    </tr>\n",
       "  </tbody>\n",
       "</table>\n",
       "</div>"
      ],
      "text/plain": [
       "                                    event_id  \\\n",
       "count                                1247914   \n",
       "unique                               1247914   \n",
       "top     bff56d56-b039-44e8-8bb5-9a0e99a83f2c   \n",
       "freq                                       1   \n",
       "\n",
       "                                   user_uuid           event_time device_type  \\\n",
       "count                                1247914              1247914     1247914   \n",
       "unique                                 81641               525817           4   \n",
       "top     9d3592ba-f1ed-45ce-a7c2-7f242ee353a9  2019-09-27 16:47:06  mobile_web   \n",
       "freq                                      49                   12      312812   \n",
       "\n",
       "                                session_uuid experiment_group user_country  \\\n",
       "count                                1247914          1247914      1247914   \n",
       "unique                                227081                2            5   \n",
       "top     68ef8208-8aa6-44e6-a137-d1ae72afa22c       experiment           CN   \n",
       "freq                                      10           624849       250957   \n",
       "\n",
       "       event_page event_type  \n",
       "count     1247914    1247914  \n",
       "unique          4          5  \n",
       "top     home_page       view  \n",
       "freq       482690     817324  "
      ]
     },
     "execution_count": 21,
     "metadata": {},
     "output_type": "execute_result"
    }
   ],
   "source": [
    "#S5_1\n",
    "df.describe()"
   ]
  },
  {
   "cell_type": "code",
   "execution_count": 22,
   "metadata": {},
   "outputs": [
    {
     "name": "stdout",
     "output_type": "stream",
     "text": [
      "p_hat:\t\t 0.4948229868427002\n",
      "confidence int:\t (0.49341034061600114, 0.50658965938399891)\n",
      "Continue analysis?: True\n"
     ]
    }
   ],
   "source": [
    "#S5_2\n",
    "desired_p = 0.5\n",
    "z_score = 1.960  #TODO Student to get the z-score for 95% confidence range\n",
    "\n",
    "total_control = 10944 #TODO Student to get the total number of events\n",
    "total_experiment = 11173 #TODO Student to get the total number of events\n",
    "\n",
    "\n",
    "standard_deviation = np.sqrt((0.5*0.5)/(total_control + total_experiment))\n",
    "margin_error = standard_deviation * z_score\n",
    "\n",
    "confidence_interval = (desired_p-margin_error, desired_p+margin_error)\n",
    "\n",
    "p_hat = total_control / (total_control + total_experiment)\n",
    "\n",
    "print(\"p_hat:\\t\\t\", p_hat)\n",
    "print(\"confidence int:\\t\", confidence_interval)\n",
    "print(\"Continue analysis?:\", p_hat > confidence_interval[0] and p_hat < confidence_interval[1])"
   ]
  },
  {
   "cell_type": "code",
   "execution_count": null,
   "metadata": {},
   "outputs": [],
   "source": [
    "#S5_3\n",
    "tktk - out of scope?"
   ]
  },
  {
   "cell_type": "code",
   "execution_count": 25,
   "metadata": {},
   "outputs": [],
   "source": [
    "#S5_4\n",
    "#tktk - to do"
   ]
  },
  {
   "cell_type": "code",
   "execution_count": 26,
   "metadata": {},
   "outputs": [],
   "source": [
    "#S5_5\n",
    "#tktk - todo"
   ]
  },
  {
   "cell_type": "markdown",
   "metadata": {},
   "source": [
    "## Section 6\n",
    "\n",
    "#S6_1 tktk - todo\n",
    "#S6_2 tktk - todo\n",
    "#S6_3 tktk - todo\n",
    "#S6_4 tktk - todo"
   ]
  },
  {
   "cell_type": "markdown",
   "metadata": {},
   "source": []
  }
 ],
 "metadata": {
  "kernelspec": {
   "display_name": "Python 3",
   "language": "python",
   "name": "python3"
  },
  "language_info": {
   "codemirror_mode": {
    "name": "ipython",
    "version": 3
   },
   "file_extension": ".py",
   "mimetype": "text/x-python",
   "name": "python",
   "nbconvert_exporter": "python",
   "pygments_lexer": "ipython3",
   "version": "3.6.3"
  },
  "ulab_nb_type": "guided"
 },
 "nbformat": 4,
 "nbformat_minor": 2
}
